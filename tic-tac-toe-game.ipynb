{
 "cells": [
  {
   "cell_type": "code",
   "execution_count": 11,
   "metadata": {},
   "outputs": [
    {
     "name": "stdout",
     "output_type": "stream",
     "text": [
      "  |   |  \n",
      "  |   |  \n",
      "  |   |  \n",
      "----------\n",
      "  |   |  \n",
      "  |   |  \n",
      "  |   |  \n",
      "----------\n",
      "  |   |  \n",
      "  |   |  \n",
      "  |   |  \n"
     ]
    }
   ],
   "source": [
    "from IPython.display import clear_output\n",
    "\n",
    "def display_board(board):\n",
    "    \n",
    "    clear_output()\n",
    "    \n",
    "    print(\" \" + ' | ' + \" \" + ' | ' + \" \")\n",
    "    print(board[7] + ' | ' + board[8] + ' | ' + board[9])\n",
    "    print(\" \" + ' | ' + \" \" + ' | ' + \" \")\n",
    "    print('----------')\n",
    "    print(\" \" + ' | ' + \" \" + ' | ' + \" \")\n",
    "    print(board[4] + ' | ' + board[5] + ' | ' + board[6])\n",
    "    print(\" \" + ' | ' + \" \" + ' | ' + \" \")\n",
    "    print('----------')\n",
    "    print(\" \" + ' | ' + \" \" + ' | ' + \" \")\n",
    "    print(board[1] + ' | ' + board[2] + ' | ' + board[3])\n",
    "    print(\" \" + ' | ' + \" \" + ' | ' + \" \")\n",
    "    \n",
    "    \n",
    "test_board = [' ', ' ', ' ', ' ', ' ', ' ', ' ', ' ', ' ', ' ']\n",
    "display_board(test_board)"
   ]
  },
  {
   "cell_type": "code",
   "execution_count": 13,
   "metadata": {},
   "outputs": [
    {
     "name": "stdout",
     "output_type": "stream",
     "text": [
      "  |   |  \n",
      "X | O | X\n",
      "  |   |  \n",
      "----------\n",
      "  |   |  \n",
      "O | X | O\n",
      "  |   |  \n",
      "----------\n",
      "  |   |  \n",
      "X | O | X\n",
      "  |   |  \n"
     ]
    }
   ],
   "source": [
    "test_board = ['#','X','O','X','O','X','O','X','O','X']\n",
    "display_board(test_board)"
   ]
  },
  {
   "cell_type": "code",
   "execution_count": 14,
   "metadata": {},
   "outputs": [],
   "source": [
    "def player_input():\n",
    "    player_1 = ' '\n",
    "    \n",
    "    while not (player_1 == 'X' or player_1 == 'O'):\n",
    "        player_1 = input('Player 1, please choose X or O').upper()\n",
    "        \n",
    "    if player_1 == 'X':\n",
    "        return ('X', 'O')\n",
    "     \n",
    "    else:\n",
    "        return ('O', 'X')"
   ]
  },
  {
   "cell_type": "code",
   "execution_count": 15,
   "metadata": {},
   "outputs": [
    {
     "name": "stdout",
     "output_type": "stream",
     "text": [
      "Player 1, please choose X or Ox\n"
     ]
    },
    {
     "data": {
      "text/plain": [
       "('X', 'O')"
      ]
     },
     "execution_count": 15,
     "metadata": {},
     "output_type": "execute_result"
    }
   ],
   "source": [
    "player_input()"
   ]
  },
  {
   "cell_type": "code",
   "execution_count": 16,
   "metadata": {},
   "outputs": [
    {
     "name": "stdout",
     "output_type": "stream",
     "text": [
      "Enter any number in the range 0-104\n"
     ]
    }
   ],
   "source": [
    "place = int(input(\"Enter any number in the range 0-10\"))\n",
    "\n",
    "def place_marker(board, marker, position):\n",
    "    board[position] = marker"
   ]
  },
  {
   "cell_type": "code",
   "execution_count": 17,
   "metadata": {},
   "outputs": [
    {
     "name": "stdout",
     "output_type": "stream",
     "text": [
      "  |   |  \n",
      "X | O | X\n",
      "  |   |  \n",
      "----------\n",
      "  |   |  \n",
      "O | X | O\n",
      "  |   |  \n",
      "----------\n",
      "  |   |  \n",
      "X | O | X\n",
      "  |   |  \n"
     ]
    }
   ],
   "source": [
    "place_marker(test_board, 'O', place)\n",
    "display_board(test_board)"
   ]
  },
  {
   "cell_type": "code",
   "execution_count": 18,
   "metadata": {},
   "outputs": [],
   "source": [
    "def win_check(board,mark):\n",
    "    return ((board[1] == mark and board[4] == mark and board[7] == mark) or\n",
    "    (board[2] == mark and board[5] == mark and board[8] == mark) or\n",
    "    (board[3] == mark and board[6] == mark and board[9] == mark) or\n",
    "    (board[1] == mark and board[2] == mark and board[3] == mark) or\n",
    "    (board[4] == mark and board[5] == mark and board[6] == mark) or\n",
    "    (board[7] == mark and board[8] == mark and board[9] == mark) or\n",
    "    (board[7] == mark and board[5] == mark and board[3] == mark) or\n",
    "    (board[1] == mark and board[5] == mark and board[9] == mark))\n"
   ]
  },
  {
   "cell_type": "code",
   "execution_count": 19,
   "metadata": {},
   "outputs": [
    {
     "name": "stdout",
     "output_type": "stream",
     "text": [
      "  |   |  \n",
      "X | O | X\n",
      "  |   |  \n",
      "----------\n",
      "  |   |  \n",
      "O | X | O\n",
      "  |   |  \n",
      "----------\n",
      "  |   |  \n",
      "X | O | X\n",
      "  |   |  \n"
     ]
    },
    {
     "data": {
      "text/plain": [
       "True"
      ]
     },
     "execution_count": 19,
     "metadata": {},
     "output_type": "execute_result"
    }
   ],
   "source": [
    "display_board(test_board)\n",
    "win_check(test_board,'X')"
   ]
  },
  {
   "cell_type": "code",
   "execution_count": 20,
   "metadata": {},
   "outputs": [
    {
     "data": {
      "text/plain": [
       "'Player 1'"
      ]
     },
     "execution_count": 20,
     "metadata": {},
     "output_type": "execute_result"
    }
   ],
   "source": [
    "import random\n",
    "\n",
    "def choose_first():\n",
    "    r = random.randint(0,1)\n",
    "    if r == 0:\n",
    "        return ('Player 1')\n",
    "    else:\n",
    "        return ('Player 2')\n",
    "    \n",
    "    \n",
    "choose_first()"
   ]
  },
  {
   "cell_type": "code",
   "execution_count": 21,
   "metadata": {},
   "outputs": [
    {
     "name": "stdout",
     "output_type": "stream",
     "text": [
      "  |   |  \n",
      "X | O | X\n",
      "  |   |  \n",
      "----------\n",
      "  |   |  \n",
      "O | X | O\n",
      "  |   |  \n",
      "----------\n",
      "  |   |  \n",
      "X | O | X\n",
      "  |   |  \n"
     ]
    },
    {
     "data": {
      "text/plain": [
       "False"
      ]
     },
     "execution_count": 21,
     "metadata": {},
     "output_type": "execute_result"
    }
   ],
   "source": [
    "def space_check(board, position):\n",
    "    return board[position] == ' ' \n",
    "        \n",
    "display_board(test_board) \n",
    "\n",
    "space_check(test_board, 9)"
   ]
  },
  {
   "cell_type": "code",
   "execution_count": 22,
   "metadata": {},
   "outputs": [
    {
     "data": {
      "text/plain": [
       "True"
      ]
     },
     "execution_count": 22,
     "metadata": {},
     "output_type": "execute_result"
    }
   ],
   "source": [
    "def full_board_check(board):\n",
    "    for i in range(1,10):\n",
    "        if space_check(board, i):\n",
    "            return False\n",
    "    return True\n",
    "\n",
    "full_board_check(test_board)"
   ]
  },
  {
   "cell_type": "code",
   "execution_count": 23,
   "metadata": {},
   "outputs": [],
   "source": [
    "def player_choice(board):\n",
    "    \n",
    "    position = 0\n",
    "    while position not in [1,2,3,4,5,6,7,8,9] or not space_check(test_board, position):\n",
    "        position = input(\"Next player enter the position.\")\n",
    "        \n",
    "    return position       "
   ]
  },
  {
   "cell_type": "code",
   "execution_count": 24,
   "metadata": {},
   "outputs": [
    {
     "name": "stdout",
     "output_type": "stream",
     "text": [
      "Do you want to play again. yes or no ?no\n"
     ]
    },
    {
     "data": {
      "text/plain": [
       "False"
      ]
     },
     "execution_count": 24,
     "metadata": {},
     "output_type": "execute_result"
    }
   ],
   "source": [
    "def replay():\n",
    "    play = input(\"Do you want to play again. yes or no ?\").lower()\n",
    "    return play == 'yes'\n",
    "\n",
    "        \n",
    "replay()        "
   ]
  },
  {
   "cell_type": "code",
   "execution_count": 25,
   "metadata": {},
   "outputs": [
    {
     "name": "stdout",
     "output_type": "stream",
     "text": [
      "  |   |  \n",
      "X | O | O\n",
      "  |   |  \n",
      "----------\n",
      "  |   |  \n",
      "X | X | O\n",
      "  |   |  \n",
      "----------\n",
      "  |   |  \n",
      "O | X | X\n",
      "  |   |  \n",
      "Player 1 won the game\n",
      "Do you want to play again. yes or no ?no\n"
     ]
    }
   ],
   "source": [
    "print('Welcome to Tic Tac Toe!')\n",
    "\n",
    "while True:\n",
    "    test_board = [' ', ' ', ' ', ' ', ' ', ' ', ' ', ' ', ' ', ' ']\n",
    "    display_board(test_board)\n",
    "\n",
    "    player_1, player_2 = player_input()\n",
    "    test = choose_first()\n",
    "    print(test + ' will go first')\n",
    "\n",
    "    while win_check(test_board, player_1) == False or win_check(test_board, player_2) == False:\n",
    "        \n",
    "        if test == 'Player 1':\n",
    "            place = int(input(\"Enter any number in the range 0-10\"))\n",
    "            place_marker(test_board, player_1, place)\n",
    "            display_board(test_board)\n",
    "            \n",
    "            if win_check(test_board, player_1) == True:\n",
    "                print(\"Player 1 won the game\")\n",
    "                break\n",
    "                \n",
    "            if full_board_check(test_board) == True:\n",
    "                print(\"It's a tie.\")\n",
    "                break\n",
    "            \n",
    "        \n",
    "            place = int(input(\"Enter any number in the range 0-10\"))\n",
    "            place_marker(test_board, player_2, place)\n",
    "            display_board(test_board)\n",
    "        \n",
    "            if win_check(test_board, player_2) == True:\n",
    "                print(\"Player 2 won the game\")\n",
    "                break\n",
    "                \n",
    "            if full_board_check(test_board) == True:\n",
    "                print(\"It's a tie.\")\n",
    "                break\n",
    "\n",
    "        else:\n",
    "            place = int(input(\"Enter any number in the range 0-10\"))\n",
    "            place_marker(test_board, player_2, place)\n",
    "            display_board(test_board)\n",
    "        \n",
    "            if win_check(test_board, player_2) == True:\n",
    "                print(\"Player 1 won the game\")\n",
    "                break\n",
    "                \n",
    "            if full_board_check(test_board) == True:\n",
    "                print(\"It's a tie.\")\n",
    "                break\n",
    "        \n",
    "        \n",
    "            place = int(input(\"Enter any number in the range 0-10\"))\n",
    "            place_marker(test_board, player_1, place)\n",
    "            display_board(test_board)\n",
    "        \n",
    "        \n",
    "            if win_check(test_board, player_1) == True:\n",
    "                print(\"Player 2 won the game\")\n",
    "                break\n",
    "                \n",
    "            if full_board_check(test_board) == True:\n",
    "                print(\"It's a tie.\")\n",
    "                break\n",
    "                \n",
    "                \n",
    "    if not replay():\n",
    "        break"
   ]
  },
  {
   "cell_type": "code",
   "execution_count": null,
   "metadata": {},
   "outputs": [],
   "source": []
  }
 ],
 "metadata": {
  "kernelspec": {
   "display_name": "Python 3",
   "language": "python",
   "name": "python3"
  },
  "language_info": {
   "codemirror_mode": {
    "name": "ipython",
    "version": 3
   },
   "file_extension": ".py",
   "mimetype": "text/x-python",
   "name": "python",
   "nbconvert_exporter": "python",
   "pygments_lexer": "ipython3",
   "version": "3.6.9"
  }
 },
 "nbformat": 4,
 "nbformat_minor": 2
}
